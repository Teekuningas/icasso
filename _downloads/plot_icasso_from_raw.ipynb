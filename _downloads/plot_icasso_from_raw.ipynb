{
  "nbformat_minor": 0, 
  "nbformat": 4, 
  "cells": [
    {
      "execution_count": null, 
      "cell_type": "code", 
      "source": [
        "%matplotlib inline"
      ], 
      "outputs": [], 
      "metadata": {
        "collapsed": false
      }
    }, 
    {
      "source": [
        "\n\nUse Icasso to compute and validate ICA on MEG data\n==================================================\n\nICA is fit to MEG raw data multiple times, and the performance is then visually inspected. Finally the components are retrieved as centrotypes of the most robust clusters.\n\n"
      ], 
      "cell_type": "markdown", 
      "metadata": {}
    }, 
    {
      "execution_count": null, 
      "cell_type": "code", 
      "source": [
        "# Authors: Erkka Heinila <erkka.heinila@jyu.fi>\n#\n# License: BSD (3-clause)\n\nimport logging\n\nimport numpy as np\nimport matplotlib.pyplot as plt\nimport mne\n\nfrom mne.preprocessing import ICA\nfrom mne.preprocessing import create_ecg_epochs, create_eog_epochs\nfrom mne.datasets import sample\n\nfrom icasso import Icasso"
      ], 
      "outputs": [], 
      "metadata": {
        "collapsed": false
      }
    }, 
    {
      "source": [
        "Set up logging\n\n"
      ], 
      "cell_type": "markdown", 
      "metadata": {}
    }, 
    {
      "execution_count": null, 
      "cell_type": "code", 
      "source": [
        "logging.basicConfig(level=logging.INFO)"
      ], 
      "outputs": [], 
      "metadata": {
        "collapsed": false
      }
    }, 
    {
      "source": [
        "Setup paths and prepare raw data.\n\n"
      ], 
      "cell_type": "markdown", 
      "metadata": {}
    }, 
    {
      "execution_count": null, 
      "cell_type": "code", 
      "source": [
        "data_path = sample.data_path()\nraw_fname = data_path + '/MEG/sample/sample_audvis_filt-0-40_raw.fif'\n\nraw = mne.io.read_raw_fif(raw_fname, preload=True)\nraw.filter(1, None, fir_design='firwin')\n\npicks = mne.pick_types(raw.info, meg='grad', eeg=False, eog=False,\n                       stim=False, exclude='bads')\nraw.drop_channels([ch_name for idx, ch_name in enumerate(raw.info['ch_names'])\n                   if idx not in picks])"
      ], 
      "outputs": [], 
      "metadata": {
        "collapsed": false
      }
    }, 
    {
      "source": [
        "Plot raw data\n\n"
      ], 
      "cell_type": "markdown", 
      "metadata": {}
    }, 
    {
      "execution_count": null, 
      "cell_type": "code", 
      "source": [
        "raw.plot(block=True)"
      ], 
      "outputs": [], 
      "metadata": {
        "collapsed": false
      }
    }, 
    {
      "source": [
        "Define parameters for mne's ICA-object and create a Icasso object.\nSet bootstrap=True to use bootstrapping.\n\n"
      ], 
      "cell_type": "markdown", 
      "metadata": {}
    }, 
    {
      "execution_count": null, 
      "cell_type": "code", 
      "source": [
        "ica_params = {\n    'n_components':20,\n    'method': 'fastica',\n    'max_iter': 1000,\n}\nicasso = Icasso(ICA, ica_params=ica_params, iterations=30, \n                bootstrap=False, vary_init=True)"
      ], 
      "outputs": [], 
      "metadata": {
        "collapsed": false
      }
    }, 
    {
      "source": [
        "Set up params for ICA.fit method.\n\n"
      ], 
      "cell_type": "markdown", 
      "metadata": {}
    }, 
    {
      "execution_count": null, 
      "cell_type": "code", 
      "source": [
        "fit_params = {\n    'decim': 3,\n    'verbose': 'warning'\n}"
      ], 
      "outputs": [], 
      "metadata": {
        "collapsed": false
      }
    }, 
    {
      "source": [
        "Set up function for getting bootstrapped versions of Raw object.\n\n"
      ], 
      "cell_type": "markdown", 
      "metadata": {}
    }, 
    {
      "execution_count": null, 
      "cell_type": "code", 
      "source": [
        "def bootstrap_fun(raw, generator):\n    sample_idxs = generator.choice(range(raw._data.shape[1]), size=raw._data.shape[1])\n    raw = raw.copy()\n    raw._data = raw._data[:, sample_idxs]\n    return raw"
      ], 
      "outputs": [], 
      "metadata": {
        "collapsed": false
      }
    }, 
    {
      "source": [
        "Set up function to get unmixing matrix from mne's ICA object after fitting.\n\n"
      ], 
      "cell_type": "markdown", 
      "metadata": {}
    }, 
    {
      "execution_count": null, 
      "cell_type": "code", 
      "source": [
        "def unmixing_fun(ica):\n    unmixing_matrix = np.dot(ica.unmixing_matrix_, \n                             ica.pca_components_[:ica.n_components_])\n    return unmixing_matrix"
      ], 
      "outputs": [], 
      "metadata": {
        "collapsed": false
      }
    }, 
    {
      "source": [
        "Set up function to store information about individual runs. \nWe do this to get pca mean and pre_whiten information.\n\n"
      ], 
      "cell_type": "markdown", 
      "metadata": {}
    }, 
    {
      "execution_count": null, 
      "cell_type": "code", 
      "source": [
        "def store_fun(ica):\n    data = {'pre_whitener': ica.pre_whitener_,\n            'pca_mean': ica.pca_mean_[:, np.newaxis]}\n    return data"
      ], 
      "outputs": [], 
      "metadata": {
        "collapsed": false
      }
    }, 
    {
      "source": [
        "For replicability\n\n"
      ], 
      "cell_type": "markdown", 
      "metadata": {}
    }, 
    {
      "execution_count": null, 
      "cell_type": "code", 
      "source": [
        "random_state = 10\ndistance = 0.75"
      ], 
      "outputs": [], 
      "metadata": {
        "collapsed": false
      }
    }, 
    {
      "source": [
        "Fit icasso to raw data.\n\n"
      ], 
      "cell_type": "markdown", 
      "metadata": {}
    }, 
    {
      "execution_count": null, 
      "cell_type": "code", 
      "source": [
        "icasso.fit(data=raw, fit_params=fit_params, random_state=random_state, \n           bootstrap_fun=bootstrap_fun, unmixing_fun=unmixing_fun, \n           store_fun=store_fun)"
      ], 
      "outputs": [], 
      "metadata": {
        "collapsed": false
      }
    }, 
    {
      "source": [
        "Plot a dendogram\n\n"
      ], 
      "cell_type": "markdown", 
      "metadata": {}
    }, 
    {
      "execution_count": null, 
      "cell_type": "code", 
      "source": [
        "icasso.plot_dendrogram()"
      ], 
      "outputs": [], 
      "metadata": {
        "collapsed": false
      }
    }, 
    {
      "source": [
        "Plot the components in 2D space.\n\n"
      ], 
      "cell_type": "markdown", 
      "metadata": {}
    }, 
    {
      "execution_count": null, 
      "cell_type": "code", 
      "source": [
        "icasso.plot_mds(distance=distance, random_state=random_state)"
      ], 
      "outputs": [], 
      "metadata": {
        "collapsed": false
      }
    }, 
    {
      "source": [
        "Unmix using the centrotypes\n\n"
      ], 
      "cell_type": "markdown", 
      "metadata": {}
    }, 
    {
      "execution_count": null, 
      "cell_type": "code", 
      "source": [
        "unmixing, scores = icasso.get_centrotype_unmixing(distance=distance)\npca_mean, pre_whitener = icasso.store[0]['pca_mean'], icasso.store[0]['pre_whitener']\nsources = np.dot(unmixing, (raw._data / pre_whitener) - pca_mean)"
      ], 
      "outputs": [], 
      "metadata": {
        "collapsed": false
      }
    }, 
    {
      "source": [
        "Show cluster quality indices.\n\n"
      ], 
      "cell_type": "markdown", 
      "metadata": {}
    }, 
    {
      "execution_count": null, 
      "cell_type": "code", 
      "source": [
        "plt.figure()\nplt.plot(range(1, len(scores)+1), scores)\nplt.xticks(range(1, len(scores)+1), \n           [str(idx) for idx in range(1, len(scores)+1)])\nplt.xlabel('Component')\nplt.ylabel('Quality index')\nplt.show()"
      ], 
      "outputs": [], 
      "metadata": {
        "collapsed": false
      }
    }, 
    {
      "source": [
        "Create raw object using the icasso centrotype sources and plot it\n\n"
      ], 
      "cell_type": "markdown", 
      "metadata": {}
    }, 
    {
      "execution_count": null, 
      "cell_type": "code", 
      "source": [
        "sources = sources * 3e-04\ninfo = mne.create_info(['ICA %03d' % (idx+1) for idx in range(sources.shape[0])], \n                       raw.info['sfreq'], ch_types='misc')\ncomponents = mne.io.RawArray(sources, info)\ncomponents.plot(block=True)"
      ], 
      "outputs": [], 
      "metadata": {
        "collapsed": false
      }
    }
  ], 
  "metadata": {
    "kernelspec": {
      "display_name": "Python 2", 
      "name": "python2", 
      "language": "python"
    }, 
    "language_info": {
      "mimetype": "text/x-python", 
      "nbconvert_exporter": "python", 
      "name": "python", 
      "file_extension": ".py", 
      "version": "2.7.15", 
      "pygments_lexer": "ipython2", 
      "codemirror_mode": {
        "version": 2, 
        "name": "ipython"
      }
    }
  }
}